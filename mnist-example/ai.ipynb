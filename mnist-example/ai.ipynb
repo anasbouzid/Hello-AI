{
 "cells": [
  {
   "cell_type": "code",
   "execution_count": 2,
   "metadata": {},
   "outputs": [],
   "source": [
    "from ipywidgets import Image\n",
    "import ipywidgets as widgets\n",
    "from ipycanvas import Canvas, RoughCanvas, hold_canvas\n",
    "import sys\n",
    "# %load_ext autoreload\n",
    "# %autoreload 2\n",
    "sys.path.append(\"..\")"
   ]
  },
  {
   "cell_type": "code",
   "execution_count": 3,
   "metadata": {},
   "outputs": [
    {
     "ename": "FileNotFoundError",
     "evalue": "[Errno 2] No such file or directory: '../trained_models/epoch_10_leakyReLU.pkl'",
     "output_type": "error",
     "traceback": [
      "\u001b[0;31m---------------------------------------------------------------------------\u001b[0m",
      "\u001b[0;31mFileNotFoundError\u001b[0m                         Traceback (most recent call last)",
      "\u001b[0;32m/tmp/ipykernel_37160/1163656497.py\u001b[0m in \u001b[0;36m<module>\u001b[0;34m\u001b[0m\n\u001b[1;32m     14\u001b[0m     \u001b[0;31m# l2_regularization=0.0001\u001b[0m\u001b[0;34m\u001b[0m\u001b[0;34m\u001b[0m\u001b[0;34m\u001b[0m\u001b[0m\n\u001b[1;32m     15\u001b[0m )\n\u001b[0;32m---> 16\u001b[0;31m \u001b[0mneuralNetwork\u001b[0m\u001b[0;34m.\u001b[0m\u001b[0mload_from_file\u001b[0m\u001b[0;34m(\u001b[0m\u001b[0;34m\"../trained_models/epoch_10_leakyReLU\"\u001b[0m\u001b[0;34m)\u001b[0m\u001b[0;34m\u001b[0m\u001b[0;34m\u001b[0m\u001b[0m\n\u001b[0m",
      "\u001b[0;32m~/workspace/thesis/projects/hello AI/mnist-example/../NeuralNetwork.py\u001b[0m in \u001b[0;36mload_from_file\u001b[0;34m(self, name)\u001b[0m\n\u001b[1;32m    110\u001b[0m \u001b[0;34m\u001b[0m\u001b[0m\n\u001b[1;32m    111\u001b[0m     \u001b[0;32mdef\u001b[0m \u001b[0mload_from_file\u001b[0m\u001b[0;34m(\u001b[0m\u001b[0mself\u001b[0m\u001b[0;34m,\u001b[0m \u001b[0mname\u001b[0m\u001b[0;34m=\u001b[0m\u001b[0;34m\"NeuralNetwork\"\u001b[0m\u001b[0;34m)\u001b[0m\u001b[0;34m:\u001b[0m\u001b[0;34m\u001b[0m\u001b[0;34m\u001b[0m\u001b[0m\n\u001b[0;32m--> 112\u001b[0;31m         \u001b[0;32mwith\u001b[0m \u001b[0mopen\u001b[0m\u001b[0;34m(\u001b[0m\u001b[0;34mf\"{name}.pkl\"\u001b[0m\u001b[0;34m,\u001b[0m \u001b[0;34m\"rb\"\u001b[0m\u001b[0;34m)\u001b[0m \u001b[0;32mas\u001b[0m \u001b[0mf\u001b[0m\u001b[0;34m:\u001b[0m\u001b[0;34m\u001b[0m\u001b[0;34m\u001b[0m\u001b[0m\n\u001b[0m\u001b[1;32m    113\u001b[0m             \u001b[0mdata\u001b[0m \u001b[0;34m=\u001b[0m \u001b[0mpickle\u001b[0m\u001b[0;34m.\u001b[0m\u001b[0mload\u001b[0m\u001b[0;34m(\u001b[0m\u001b[0mf\u001b[0m\u001b[0;34m)\u001b[0m\u001b[0;34m\u001b[0m\u001b[0;34m\u001b[0m\u001b[0m\n\u001b[1;32m    114\u001b[0m             \u001b[0;32mfor\u001b[0m \u001b[0mi\u001b[0m\u001b[0;34m,\u001b[0m \u001b[0mlayer\u001b[0m \u001b[0;32min\u001b[0m \u001b[0menumerate\u001b[0m\u001b[0;34m(\u001b[0m\u001b[0mself\u001b[0m\u001b[0;34m.\u001b[0m\u001b[0mlayers\u001b[0m\u001b[0;34m)\u001b[0m\u001b[0;34m:\u001b[0m\u001b[0;34m\u001b[0m\u001b[0;34m\u001b[0m\u001b[0m\n",
      "\u001b[0;31mFileNotFoundError\u001b[0m: [Errno 2] No such file or directory: '../trained_models/epoch_10_leakyReLU.pkl'"
     ]
    }
   ],
   "source": [
    "import Optimizers\n",
    "from NeuralNetwork import NeuralNetwork\n",
    "from Layer import Layer\n",
    "from ActivationFunction import ActivationFunction\n",
    "import numpy as np\n",
    "neuralNetwork = NeuralNetwork(\n",
    "    layers=[\n",
    "        Layer(neurons=28*28, activation=ActivationFunction.identity),\n",
    "        Layer(neurons=38, activation=ActivationFunction.leaky_reLU),\n",
    "        Layer(neurons=12, activation=ActivationFunction.leaky_reLU),\n",
    "        Layer(neurons=10, activation=ActivationFunction.softmax),\n",
    "    ],\n",
    "    optimizer=Optimizers.GradientDescent(learning_rate=0.05),\n",
    "    # l2_regularization=0.0001\n",
    ")\n",
    "neuralNetwork.load_from_file(\"../trained_models/epoch_10_leakyReLU\")"
   ]
  },
  {
   "cell_type": "code",
   "execution_count": 3,
   "metadata": {},
   "outputs": [
    {
     "data": {
      "application/vnd.jupyter.widget-view+json": {
       "model_id": "cfca0763c4874661b0f9b38ac94dc2a4",
       "version_major": 2,
       "version_minor": 0
      },
      "text/plain": [
       "HBox(children=(Canvas(height=280, sync_image_data=True, width=280), VBox(children=(VBox(children=(FloatProgres…"
      ]
     },
     "metadata": {},
     "output_type": "display_data"
    }
   ],
   "source": [
    "from ipycanvas import Canvas, RoughCanvas, hold_canvas\n",
    "canvas = Canvas(width=280, height=280, sync_image_data=True)\n",
    "\n",
    "position = None\n",
    "shape = []\n",
    "\n",
    "brush = Image.from_file('brush.png')\n",
    "\n",
    "clear_canvas_btn = widgets.Button(\n",
    "    description='Reset',\n",
    "    button_style='',  # 'success', 'info', 'warning', 'danger' or ''\n",
    "    tooltip='Clear canvas',\n",
    "    icon='refresh'  # (FontAwesome names without the `fa-` prefix)\n",
    ")\n",
    "\n",
    "text_value = widgets.Textarea(\n",
    "    value='',\n",
    "    placeholder='Type something',\n",
    "    description=''\n",
    ")\n",
    "\n",
    "progress_bar_generator = lambda number : widgets.FloatProgress(\n",
    "    value=0,\n",
    "    min=0,\n",
    "    max=1,\n",
    "    description=f'{number}',\n",
    "    bar_style='info',\n",
    "    style={'bar_color': 'tomato'},\n",
    "    orientation='horizontal'\n",
    ")\n",
    "progress_bars = list((progress_bar_generator(i) for i in range(10)))\n",
    "progress_bars_widget = widgets.VBox(progress_bars)\n",
    "\n",
    "\n",
    "def on_mouse_down(x, y):\n",
    "    global drawing\n",
    "    global position\n",
    "    global shape\n",
    "\n",
    "    drawing = True\n",
    "    position = (x, y)\n",
    "    shape = [position]\n",
    "\n",
    "\n",
    "def on_mouse_move(x, y):\n",
    "    global drawing\n",
    "    global position\n",
    "    global shape\n",
    "\n",
    "    if not drawing:\n",
    "        return\n",
    "\n",
    "    with hold_canvas(canvas):\n",
    "        canvas.draw_image(brush, x, y)\n",
    "\n",
    "        position = (x, y)\n",
    "\n",
    "        # arr1 = canvas.get_image_data()\n",
    "        # canvas.to_file('my_file.png')\n",
    "\n",
    "    shape.append(position)\n",
    "\n",
    "\n",
    "def on_mouse_up(x, y):\n",
    "    global drawing\n",
    "    global position\n",
    "    global shape\n",
    "\n",
    "    drawing = False\n",
    "\n",
    "    with hold_canvas(canvas):\n",
    "        canvas.draw_image(brush, x, y)\n",
    "        # canvas.fill_polygon(shape)\n",
    "        # arr1 = canvas.get_image_data()\n",
    "        # text_value.value = str(canvas.get_image_data())\n",
    "\n",
    "\n",
    "    shape = []\n",
    "\n",
    "canvas.on_mouse_down(on_mouse_down)\n",
    "canvas.on_mouse_move(on_mouse_move)\n",
    "canvas.on_mouse_up(on_mouse_up)\n",
    "\n",
    "canvas.stroke_style = '#000'\n",
    "canvas.line_width = 5\n",
    "canvas.laine_cape = \"butt\"\n",
    "\n",
    "\n",
    "def get_array(*args, **kwargs):\n",
    "    # Do something with arr\n",
    "    # arr = canvas.get_image_data()\n",
    "    # arr = arr[...,-1] / 255\n",
    "    # text_value.value = str(arr)\n",
    "    \n",
    "    arr = canvas.get_image_data()\n",
    "    if(np.all(arr==0)):\n",
    "        for i, progress_bar in enumerate(progress_bars):\n",
    "            progress_bar.value = 0\n",
    "        return\n",
    "    arr = arr[...,-1]\n",
    "    smaller_img = arr[::10, ::10] / 255\n",
    "    out = neuralNetwork.forward_propagate(smaller_img.reshape(28*28))\n",
    "    text_value.value = str(np.around(out, decimals=2))\n",
    "    for i, progress_bar in enumerate(progress_bars):\n",
    "        progress_bar.value = out[i]\n",
    "    \n",
    "\n",
    "\n",
    "# Listen to changes on the ``image_data`` trait and call ``get_array`` when it changes.\n",
    "canvas.observe(get_array, 'image_data')\n",
    "\n",
    "\n",
    "def on_clear_canvas_btn_clicked(b):\n",
    "    canvas.clear()\n",
    "    # canvas.rotate(45)\n",
    "\n",
    "clear_canvas_btn.on_click(on_clear_canvas_btn_clicked)\n",
    "\n",
    "widgets.HBox((canvas, widgets.VBox((progress_bars_widget, text_value, clear_canvas_btn))))\n"
   ]
  },
  {
   "cell_type": "code",
   "execution_count": 160,
   "metadata": {},
   "outputs": [],
   "source": [
    "\n",
    "arr = canvas.get_image_data()\n",
    "np.shape(np.sum(arr, axis=(0)))\n",
    "arr = arr[...,-1]"
   ]
  },
  {
   "cell_type": "code",
   "execution_count": 150,
   "metadata": {},
   "outputs": [
    {
     "data": {
      "text/plain": [
       "(280, 280)"
      ]
     },
     "execution_count": 150,
     "metadata": {},
     "output_type": "execute_result"
    }
   ],
   "source": [
    "np.shape(arr)"
   ]
  },
  {
   "cell_type": "code",
   "execution_count": 165,
   "metadata": {},
   "outputs": [
    {
     "data": {
      "text/plain": [
       "4"
      ]
     },
     "execution_count": 165,
     "metadata": {},
     "output_type": "execute_result"
    }
   ],
   "source": [
    "smaller_img = arr[::10, ::10]\n",
    "out = neuralNetwork.forward_propagate(smaller_img.reshape(28*28))\n",
    "np.argmax(out)"
   ]
  },
  {
   "cell_type": "code",
   "execution_count": 146,
   "metadata": {},
   "outputs": [
    {
     "data": {
      "text/plain": [
       "(1, 28, 28)"
      ]
     },
     "execution_count": 146,
     "metadata": {},
     "output_type": "execute_result"
    }
   ],
   "source": [
    "input_size = 280\n",
    "output_size = 28\n",
    "bin_size = input_size // output_size\n",
    "small_image = arr.reshape((1, output_size, bin_size,\n",
    "                                      output_size, bin_size)).max(4).max(2)\n",
    "np.shape(small_image)\n",
    "#neuralNetwork.forward_propagate(small_image)\n",
    "#small_image"
   ]
  }
 ],
 "metadata": {
  "interpreter": {
   "hash": "e23bbf210c9c4f628ab130950aa5d84101349228f5e502e816584a820dc3001a"
  },
  "kernelspec": {
   "display_name": "Python 3 (ipykernel)",
   "language": "python",
   "name": "python3"
  },
  "language_info": {
   "codemirror_mode": {
    "name": "ipython",
    "version": 3
   },
   "file_extension": ".py",
   "mimetype": "text/x-python",
   "name": "python",
   "nbconvert_exporter": "python",
   "pygments_lexer": "ipython3",
   "version": "3.9.6"
  }
 },
 "nbformat": 4,
 "nbformat_minor": 2
}
