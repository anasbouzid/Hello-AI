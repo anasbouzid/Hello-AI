{
 "cells": [
  {
   "cell_type": "code",
   "execution_count": 1,
   "source": [
    "import sys\n",
    "sys.path.append(\"..\")"
   ],
   "outputs": [],
   "metadata": {}
  },
  {
   "cell_type": "code",
   "execution_count": 3,
   "source": [
    "# Load Data\n",
    "from mnist import MNIST\n",
    "import numpy as np\n",
    "mndata = MNIST('mnist-example/data')\n",
    "\n",
    "test_X, test_Y = mndata.load_testing()\n",
    "test_X, test_Y = np.array(test_X), np.array(test_Y)\n"
   ],
   "outputs": [],
   "metadata": {}
  },
  {
   "cell_type": "code",
   "execution_count": 4,
   "source": [
    "import Optimizers\n",
    "from NeuralNetwork import NeuralNetwork\n",
    "from Layer import Layer\n",
    "from ActivationFunction import ActivationFunction\n",
    "from CostFunction import CostFunction\n",
    "\n",
    "neuralNetwork = NeuralNetwork(\n",
    "    layers=[\n",
    "        Layer(neurons=28*28, activation=ActivationFunction.identity),\n",
    "        Layer(neurons=100, activation=ActivationFunction.leaky_reLU),\n",
    "        Layer(neurons=50, activation=ActivationFunction.leaky_reLU),\n",
    "        Layer(neurons=10, activation=ActivationFunction.softmax),\n",
    "    ],\n",
    "    optimizer=Optimizers.GradientDescent(learning_rate=0.05),\n",
    "    # l2_regularization=0.0001\n",
    ")\n",
    "np.size(test_Y)\n"
   ],
   "outputs": [
    {
     "output_type": "execute_result",
     "data": {
      "text/plain": [
       "10000"
      ]
     },
     "metadata": {},
     "execution_count": 4
    }
   ],
   "metadata": {}
  },
  {
   "cell_type": "code",
   "execution_count": 5,
   "source": [
    "neuralNetwork.load_from_file(\n",
    "    \"mnist-example/trained_models/epoch_10_layer_100_50_leakyReLU\")\n"
   ],
   "outputs": [],
   "metadata": {}
  },
  {
   "cell_type": "code",
   "execution_count": 6,
   "source": [
    "correct = 0\n",
    "for i in range(len(test_Y)):\n",
    "    \n",
    "    out = neuralNetwork.forward_propagate(test_X[i] / 255)\n",
    "\n",
    "    if(np.argmax(out) == test_Y[i]):\n",
    "        correct = correct + 1\n",
    "\n",
    "error_rate = 1 - correct / len(test_Y)\n",
    "print(f\"error: {error_rate*100:.2f}%\")\n"
   ],
   "outputs": [
    {
     "output_type": "stream",
     "name": "stdout",
     "text": [
      "error: 4.64%\n"
     ]
    }
   ],
   "metadata": {}
  },
  {
   "cell_type": "code",
   "execution_count": null,
   "source": [],
   "outputs": [],
   "metadata": {}
  },
  {
   "cell_type": "code",
   "execution_count": 15,
   "source": [
    "nop = np.array([  0,   0,   0,   0,   0,   0,   0,   0,   0,   0,   0,   0,   0,\n",
    "         0,   0,   0,   0,   0,   0,   0,   0,   0,   0,   0,   0,   0,\n",
    "         0,   0,   0,   0,   0,   0,   0,   0,   0,   0,   0,   0,   0,\n",
    "         0,   0,   0,   0,   0,   0,   0,   0,   0,   0,   0,   0,   0,\n",
    "         0,   0,   0,   0,   0,   0,   0,   0,   0,   1, 169, 242, 250,\n",
    "       246, 244, 245, 234, 212, 211,   1,   0,   0,   0,   0,   0,   0,\n",
    "         0,   0,   0,   0,   0,   0,   0,   0,   0,   0, 105, 254, 254,\n",
    "       252, 251, 237, 231, 239, 233, 251, 254, 247, 178, 109,   0,   0,\n",
    "         0,   0,   0,   0,   0,   0,   0,   0,   0,   0,   0,  35, 254,\n",
    "       255, 247,  15,   0,   0,   0,   0,   0,   2, 232, 240, 252, 255,\n",
    "       250,   4,   0,   0,   0,   0,   0,   0,   0,   0,   0,   0,   0,\n",
    "       253, 255, 247,   0,   0,   0,   0,   0,   0,   0,   0,   0,   0,\n",
    "       167, 254, 255, 254,   1,   0,   0,   0,   0,   0,   0,   0,   0,\n",
    "         0,   0, 254, 255,  44,   0,   0,   0,   0,   0,   0,   0,   0,\n",
    "         0,   0,   0,   0, 255, 255, 160,   0,   0,   0,   0,   0,   0,\n",
    "         0,   0,   0,   0, 241, 255, 252,   0,   0,   0,   0,   0,   0,\n",
    "         0,   1, 187, 160,   0, 137, 255, 255,  49,   0,   0,   0,   0,\n",
    "         0,   0,   0,   0,   0,   0,  10, 255, 254, 196,   0,   0,   0,\n",
    "         0,  45, 213, 254, 254, 253, 254, 254, 255, 250,   0,   0,   0,\n",
    "         0,   0,   0,   0,   0,   0,   0,   0,   0, 167, 254, 254, 239,\n",
    "         1,  79, 205, 238, 247, 255, 255, 255, 255, 254, 178,   0,   0,\n",
    "         0,   0,   0,   0,   0,   0,   0,   0,   0,   0,   0,   0, 196,\n",
    "       255, 254, 252, 239, 189, 204, 123, 247, 252, 246, 129,   0,   0,\n",
    "         0,   0,   0,   0,   0,   0,   0,   0,   0,   0,   0,   0,   0,\n",
    "         0,  43, 228, 254, 255, 254,  14,   0,   0,   0,   0,   0,   0,\n",
    "         0,   0,   0,   0,   0,   0,   0,   0,   0,   0,   0,   0,   0,\n",
    "         0,   0, 195, 250, 241, 191, 253, 255, 249,   3,   0,   0,   0,\n",
    "         0,   0,   0,   0,   0,   0,   0,   0,   0,   0,   0,   0,   0,\n",
    "         0,   0,   0, 125, 250, 243, 102,   0,   0, 244, 254, 237,   0,\n",
    "         0,   0,   0,   0,   0,   0,   0,   0,   0,   0,   0,   0,   0,\n",
    "         0,   0,   0,   0,   0, 206, 250,  26,   0,   0,   0,   0, 243,\n",
    "       237,  24,   0,   0,   0,   0,   0,   0,   0,   0,   0,   0,   0,\n",
    "         0,   0,   0,   0,   0,   0,   0, 232, 248,   2,   0,   0,   0,\n",
    "         0,  37, 249, 240,   0,   0,   0,   0,   0,   0,   0,   0,   0,\n",
    "         0,   0,   0,   0,   0,   0,   0,   0,   0, 166, 230, 153,   0,\n",
    "         0,   0,   0,   0, 252, 249,   0,   0,   0,   0,   0,   0,   0,\n",
    "         0,   0,   0,   0,   0,   0,   0,   0,   0,   0,   0,   0, 194,\n",
    "       227, 129,   0,   0,   0,   0, 247, 251,   0,   0,   0,   0,   0,\n",
    "         0,   0,   0,   0,   0,   0,   0,   0,   0,   0,   0,   0,   0,\n",
    "         0,   1, 205, 220, 143,   0,   0,   1, 251, 248,   0,   0,   0,\n",
    "         0,   0,   0,   0,   0,   0,   0,   0,   0,   0,   0,   0,   0,\n",
    "         0,   0,   0,   0,   4, 215, 243, 221, 118, 239, 252, 211,   0,\n",
    "         0,   0,   0,   0,   0,   0,   0,   0,   0,   0,   0,   0,   0,\n",
    "         0,   0,   0,   0,   0,   0,   0,   0, 208, 224, 252, 254, 237,\n",
    "         1,   0,   0,   0,   0,   0,   0,   0,   0,   0,   0,   0,   0,\n",
    "         0,   0,   0,   0,   0,   0,   0,   0,   0,   0,   0,   0, 228,\n",
    "       221,   0,   0,   0,   0,   0,   0,   0,   0,   0,   0,   0,   0,\n",
    "         0,   0,   0,   0,   0,   0,   0,   0,   0,   0,   0,   0,   0,\n",
    "         0,   0,   0,   0,   0,   0,   0,   0,   0,   0,   0,   0,   0,\n",
    "         0,   0,   0,   0,   0,   0,   0,   0,   0,   0,   0,   0,   0,\n",
    "         0,   0,   0,   0,   0,   0,   0,   0,   0,   0,   0,   0,   0,\n",
    "         0,   0,   0,   0,   0,   0,   0,   0,   0,   0,   0,   0,   0,\n",
    "         0,   0,   0,   0,   0,   0,   0,   0,   0,   0,   0,   0,   0,\n",
    "         0,   0,   0,   0,   0,   0,   0,   0,   0,   0,   0,   0,   0,\n",
    "         0,   0,   0,   0,   0,   0,   0,   0,   0,   0,   0,   0,   0,\n",
    "         0,   0,   0,   0,   0,   0,   0,   0,   0,   0,   0,   0,   0,\n",
    "         0,   0,   0,   0,   0,   0,   0,   0,   0,   0,   0,   0,   0,\n",
    "         0,   0,   0,   0,   0,   0,   0,   0,   0,   0,   0,   0,   0,\n",
    "         0,   0,   0,   0,   0,   0,   0,   0,   0,   0,   0,   0,   0,\n",
    "         0,   0,   0,   0,   0,   0,   0,   0,   0,   0,   0,   0,   0,\n",
    "         0,   0,   0,   0])"
   ],
   "outputs": [],
   "metadata": {}
  },
  {
   "cell_type": "code",
   "execution_count": 18,
   "source": [
    "print(mndata.display(nop))\n",
    "print(mndata.display(test_X[i]))"
   ],
   "outputs": [
    {
     "output_type": "stream",
     "name": "stdout",
     "text": [
      "\n",
      "............................\n",
      "............................\n",
      ".......@@@@@@@@.............\n",
      ".....@@@@@@@@@@@............\n",
      "....@@@.......@@@@@.........\n",
      "...@@@...........@@@........\n",
      "...@@.............@@........\n",
      "...@@@............@@........\n",
      "....@@......@@@@@@@@........\n",
      ".....@@@..@@@@@@@@..........\n",
      "......@@@@.@.@@@............\n",
      "......@@@@..................\n",
      ".....@@.@@@.................\n",
      "....@@...@@@................\n",
      "...@@.....@@................\n",
      "...@@......@@...............\n",
      "....@......@@...............\n",
      ".....@.....@@...............\n",
      ".....@@....@@...............\n",
      "......@@@.@@@...............\n",
      ".......@@@@@................\n",
      ".........@@.................\n",
      "............................\n",
      "............................\n",
      "............................\n",
      "............................\n",
      "............................\n",
      "............................\n",
      "\n",
      "............................\n",
      "............................\n",
      "...................@@.......\n",
      ".................@@@@.......\n",
      "...............@@@@@........\n",
      ".............@@@@@..........\n",
      "...........@@@@@@...........\n",
      ".............@@@............\n",
      "............@@@@............\n",
      "...........@@@@.............\n",
      "..........@@@@..............\n",
      ".........@@@@...............\n",
      "........@@@@................\n",
      "........@@@@.......@@@@.....\n",
      ".......@@@........@@@@@.....\n",
      ".......@@@....@@@@@@@@@@....\n",
      "......@@@@..@@@@@@@@@@@.....\n",
      "......@@@@.@@@.......@@.....\n",
      "......@@@@@@@@.....@@@......\n",
      ".......@@@@@@@@@@@@@@.......\n",
      "........@@@@@@@@@@@.........\n",
      "..........@@@@..............\n",
      "............................\n",
      "............................\n",
      "............................\n",
      "............................\n",
      "............................\n",
      "............................\n"
     ]
    }
   ],
   "metadata": {
    "scrolled": true
   }
  },
  {
   "cell_type": "code",
   "execution_count": 20,
   "source": [
    "print(np.argmax(neuralNetwork.forward_propagate(nop / 255)))\n",
    "print(np.argmax(neuralNetwork.forward_propagate(test_X[i] / 255)))"
   ],
   "outputs": [
    {
     "output_type": "stream",
     "name": "stdout",
     "text": [
      "2\n",
      "6\n"
     ]
    }
   ],
   "metadata": {}
  },
  {
   "cell_type": "code",
   "execution_count": 24,
   "source": [
    "from ipywidgets import Button, HBox, VBox\n",
    "\n",
    "words = ['correct', 'horse', 'battery', 'staple']\n",
    "items = [Button(description=w) for w in words]\n",
    "left_box = VBox([items[0], items[1]])\n",
    "right_box = VBox([items[2], items[3]])\n",
    "HBox([left_box, right_box])"
   ],
   "outputs": [
    {
     "output_type": "display_data",
     "data": {
      "application/vnd.jupyter.widget-view+json": {
       "model_id": "a538590d5a9c44f9844919f703806280",
       "version_major": 2,
       "version_minor": 0
      },
      "text/plain": [
       "HBox(children=(VBox(children=(Button(description='correct', style=ButtonStyle()), Button(description='horse', …"
      ]
     },
     "metadata": {}
    }
   ],
   "metadata": {}
  }
 ],
 "metadata": {
  "interpreter": {
   "hash": "e23bbf210c9c4f628ab130950aa5d84101349228f5e502e816584a820dc3001a"
  },
  "kernelspec": {
   "name": "python3",
   "display_name": "Python 3.9.6 64-bit ('tf': conda)"
  },
  "language_info": {
   "codemirror_mode": {
    "name": "ipython",
    "version": 3
   },
   "file_extension": ".py",
   "mimetype": "text/x-python",
   "name": "python",
   "nbconvert_exporter": "python",
   "pygments_lexer": "ipython3",
   "version": "3.9.6"
  }
 },
 "nbformat": 4,
 "nbformat_minor": 2
}