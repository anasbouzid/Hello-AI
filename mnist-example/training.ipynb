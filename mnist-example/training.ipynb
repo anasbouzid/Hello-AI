{
 "cells": [
  {
   "cell_type": "code",
   "execution_count": 2,
   "metadata": {},
   "outputs": [],
   "source": [
    "%load_ext autoreload\n",
    "%autoreload 2"
   ]
  },
  {
   "cell_type": "code",
   "execution_count": 3,
   "metadata": {},
   "outputs": [],
   "source": [
    "# Load Data\n",
    "from mnist import MNIST\n",
    "import numpy as np\n",
    "mndata = MNIST('data')\n",
    "\n",
    "train_X, train_Y = mndata.load_training()\n",
    "test_X, test_Y = mndata.load_testing()\n",
    "\n",
    "train_X, train_Y = np.array(train_X), np.array(train_Y)\n",
    "test_X, test_Y = np.array(test_X), np.array(test_Y)\n"
   ]
  },
  {
   "cell_type": "code",
   "execution_count": 3,
   "metadata": {},
   "outputs": [
    {
     "data": {
      "image/png": "[encoded data removed]",
      "text/plain": [
       "<Figure size 1080x360 with 3 Axes>"
      ]
     },
     "metadata": {},
     "output_type": "display_data"
    }
   ],
   "source": [
    "from matplotlib import pyplot\n",
    "import random\n",
    "fig, axs = pyplot.subplots(1,3, figsize=(15, 5), facecolor='w', edgecolor='k')\n",
    "axs = axs.ravel()\n",
    "for i in range(3):\n",
    "    x = random.randrange(0, np.size(train_Y))\n",
    "    axs[i].contourf(train_X[x].reshape((28, 28)),5, cmap=pyplot.get_cmap('gray'))\n",
    "    axs[i].set_title(f\"The label is {train_Y[x]}\", y=-0.15)\n"
   ]
  },
  {
   "cell_type": "code",
   "execution_count": 4,
   "metadata": {},
   "outputs": [
    {
     "data": {
      "text/plain": [
       "60000"
      ]
     },
     "execution_count": 4,
     "metadata": {},
     "output_type": "execute_result"
    }
   ],
   "source": [
    "import Optimizers\n",
    "from NeuralNetwork import NeuralNetwork\n",
    "from Layer import Layer\n",
    "from ActivationFunction import ActivationFunction\n",
    "from CostFunction import CostFunction\n",
    "\n",
    "neuralNetwork = NeuralNetwork(\n",
    "    layers=[\n",
    "        Layer(neurons=28*28, activation=ActivationFunction.identity),\n",
    "        Layer(neurons=100, activation=ActivationFunction.leaky_reLU),\n",
    "        Layer(neurons=50, activation=ActivationFunction.leaky_reLU),\n",
    "        Layer(neurons=10, activation=ActivationFunction.softmax),\n",
    "    ],\n",
    "    optimizer=Optimizers.GradientDescent(learning_rate=0.05),\n",
    "    # l2_regularization=0.0001\n",
    ")\n",
    "neuralNetwork.init_random_weights()\n",
    "np.size(train_Y)\n"
   ]
  },
  {
   "cell_type": "code",
   "execution_count": 5,
   "metadata": {},
   "outputs": [
    {
     "name": "stdout",
     "output_type": "stream",
     "text": [
      "0.05\n",
      "Epoch: 0, Training error rate: 0.27218333333333333\n",
      "Epoch: 1, Training error rate: 0.09988333333333332\n",
      "Epoch: 2, Training error rate: 0.07721666666666671\n",
      "Epoch: 3, Training error rate: 0.06428333333333336\n",
      "Epoch: 4, Training error rate: 0.05696666666666672\n",
      "Epoch: 5, Training error rate: 0.05143333333333333\n",
      "Epoch: 6, Training error rate: 0.04623333333333335\n",
      "Epoch: 7, Training error rate: 0.042850000000000055\n",
      "Epoch: 8, Training error rate: 0.039316666666666666\n",
      "Epoch: 9, Training error rate: 0.0373\n"
     ]
    }
   ],
   "source": [
    "print(neuralNetwork.optimizer.learning_rate)\n",
    "epoch = 10\n",
    "batch_size = 32\n",
    "while(epoch):\n",
    "    shuffler = np.random.permutation(len(train_Y))\n",
    "    train_X = train_X[shuffler]\n",
    "    train_Y = train_Y[shuffler]\n",
    "\n",
    "    # np.random.shuffle(train_X)\n",
    "    correct = 0\n",
    "\n",
    "    for i in range(np.size(train_Y) // batch_size):\n",
    "        j = i * batch_size\n",
    "\n",
    "        for k, data in enumerate(train_X[j:j+batch_size]):\n",
    "\n",
    "            index = j + k\n",
    "            expected = np.zeros(10)\n",
    "            expected[train_Y[index]] = 1\n",
    "            training_data = train_X[index] / 255\n",
    "            out, cost = neuralNetwork.learn(training_data, expected)\n",
    "\n",
    "            if(np.argmax(out) == train_Y[index]):\n",
    "                correct = correct + 1\n",
    "            # print(len(train_X[j:j+batch_size]))\n",
    "\n",
    "        neuralNetwork.update_from_learning()\n",
    "\n",
    "\n",
    "    print(f\"Epoch: {10 - epoch}, Training error rate: {1 - correct / np.size(train_Y)}\")\n",
    "\n",
    "    epoch = epoch - 1\n"
   ]
  },
  {
   "cell_type": "code",
   "execution_count": 6,
   "metadata": {},
   "outputs": [],
   "source": [
    "neuralNetwork.save_to_file(\"epoch_10_layer_100_50_leakyReLU\")"
   ]
  },
  {
   "cell_type": "code",
   "execution_count": null,
   "metadata": {},
   "outputs": [],
   "source": [
    "\n"
   ]
  }
 ],
 "metadata": {
  "interpreter": {
   "hash": "e23bbf210c9c4f628ab130950aa5d84101349228f5e502e816584a820dc3001a"
  },
  "kernelspec": {
   "display_name": "Python 3 (ipykernel)",
   "language": "python",
   "name": "python3"
  },
  "language_info": {
   "codemirror_mode": {
    "name": "ipython",
    "version": 3
   },
   "file_extension": ".py",
   "mimetype": "text/x-python",
   "name": "python",
   "nbconvert_exporter": "python",
   "pygments_lexer": "ipython3",
   "version": "3.9.6"
  }
 },
 "nbformat": 4,
 "nbformat_minor": 2
}
